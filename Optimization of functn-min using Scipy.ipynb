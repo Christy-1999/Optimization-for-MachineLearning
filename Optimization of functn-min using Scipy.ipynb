{
 "cells": [
  {
   "cell_type": "raw",
   "id": "4269cb67",
   "metadata": {},
   "source": [
    "# f (x, y) = x2 + y2\n",
    "\n",
    "we can make use of some predefined algorithms in SciPy to find its minimum. Probably the easiest is the Nelder-Mead algorithm. This algorithm is based on a series of rules to determine how to explore the surface of the function. Without going into the detail, we can simply call SciPy and apply Nelder-Mead algorithm to find a function's minimum:"
   ]
  },
  {
   "cell_type": "code",
   "execution_count": 5,
   "id": "28fc709b",
   "metadata": {},
   "outputs": [
    {
     "name": "stdout",
     "output_type": "stream",
     "text": [
      "Status : Optimization terminated successfully.\n",
      "Total Evaluations: 94\n",
      "Solution: f([ 1.54347806e-05 -3.22454895e-05]) = 0.00000\n"
     ]
    }
   ],
   "source": [
    "from scipy.optimize import minimize\n",
    "from numpy.random import rand\n",
    "\n",
    "# objective function\n",
    "def objective(x):\n",
    " return x[0]**2.0 + x[1]**2.0\n",
    "\n",
    "# define range for input\n",
    "r_min, r_max = -5.0, 5.0\n",
    "# define the starting point as a random sample from the domain\n",
    "pt = r_min + rand(2) * (r_max - r_min)\n",
    "# perform the search\n",
    "result = minimize(objective, pt, method='nelder-mead')\n",
    "# summarize the result\n",
    "print('Status : %s' % result['message'])\n",
    "print('Total Evaluations: %d' % result['nfev'])\n",
    "# evaluate solution\n",
    "solution = result['x']\n",
    "evaluation = objective(solution)\n",
    "print('Solution: f(%s) = %.5f' % (solution, evaluation))"
   ]
  },
  {
   "cell_type": "raw",
   "id": "21543177",
   "metadata": {},
   "source": [
    "In the code above, we need to write our function with a single vector argument. Hence virtually the function becomes\n",
    "\n",
    "f (x[0], x[1]) = (x[0])2 + (x[1])2\n",
    "Nelder-Mead algorithm needs a starting point. We choose a random point in the range of -5 to +5 for that (rand(2) is numpy's way to generate a random coordinate pair between 0 and 1). The function minimize() returns a OptimizeResult object, which contains information about the result that is accessible via keys. The \"message\" key provides a human-readable message about the success or failure of the search, and the \"nfev\" key tells the number of function evaluations performed in the course of optimization. The most important one is \"x\" key, which specifies the input values that attained the minimum.\n",
    "\n",
    "Nelder-Mead algorithm works well for convex functions, which the shape is smooth and like a basin. For more complex function, the algorithm may stuck at a local optimum but fail to find the real global optimum."
   ]
  },
  {
   "cell_type": "code",
   "execution_count": 3,
   "id": "431a7f04",
   "metadata": {},
   "outputs": [
    {
     "name": "stdout",
     "output_type": "stream",
     "text": [
      "Status : Optimization terminated successfully.\n",
      "Total Evaluations: 54\n",
      "Solution: f([-3.98305621 -3.98310003]) = 10.99826\n"
     ]
    }
   ],
   "source": [
    "from numpy import e, pi, cos, sqrt, exp\n",
    "def objective(v):\n",
    "    x, y = v\n",
    "    return ( -20.0 * exp(-0.2 * sqrt(0.5 * (x**2 + y**2)))\n",
    "             - exp(0.5 * (cos(2 * pi*x)+cos(2*pi*y))) + e + 20 )\n",
    "# define range for input\n",
    "r_min, r_max = -5.0, 5.0\n",
    "# define the starting point as a random sample from the domain\n",
    "pt = r_min + rand(2) * (r_max - r_min)\n",
    "# perform the search\n",
    "result = minimize(objective, pt, method='nelder-mead')\n",
    "# summarize the result\n",
    "print('Status : %s' % result['message'])\n",
    "print('Total Evaluations: %d' % result['nfev'])\n",
    "# evaluate solution\n",
    "solution = result['x']\n",
    "evaluation = objective(solution)\n",
    "print('Solution: f(%s) = %.5f' % (solution, evaluation))"
   ]
  },
  {
   "cell_type": "raw",
   "id": "5ed08599",
   "metadata": {},
   "source": [
    "This defined the Ackley function. The global minimum is at v=[0,0]. However, Nelder-Mead most likely cannot find it because this function has many local minima.Repeat the code a few times and observe the output. You should get a different output each time you run the program."
   ]
  },
  {
   "cell_type": "code",
   "execution_count": null,
   "id": "38f0a654",
   "metadata": {},
   "outputs": [],
   "source": []
  }
 ],
 "metadata": {
  "kernelspec": {
   "display_name": "Python 3",
   "language": "python",
   "name": "python3"
  },
  "language_info": {
   "codemirror_mode": {
    "name": "ipython",
    "version": 3
   },
   "file_extension": ".py",
   "mimetype": "text/x-python",
   "name": "python",
   "nbconvert_exporter": "python",
   "pygments_lexer": "ipython3",
   "version": "3.8.8"
  }
 },
 "nbformat": 4,
 "nbformat_minor": 5
}
